{
 "cells": [
  {
   "cell_type": "code",
   "execution_count": null,
   "id": "13d0c8f6",
   "metadata": {},
   "outputs": [],
   "source": [
    "import pandas as pd\n",
    "import numpy as np\n",
    "import requests\n",
    "import pandas as pd\n",
    "from bs4 import BeautifulSoup\n",
    "import time"
   ]
  },
  {
   "cell_type": "code",
   "execution_count": null,
   "id": "16dee942",
   "metadata": {},
   "outputs": [],
   "source": [
    "champions = pd.read_csv('champion.csv', header=None)"
   ]
  },
  {
   "cell_type": "code",
   "execution_count": null,
   "id": "4b2a3292",
   "metadata": {},
   "outputs": [],
   "source": [
    "champion_dic = {x: y for x, y in zip(champions[0], champions[1])}"
   ]
  },
  {
   "cell_type": "code",
   "execution_count": null,
   "id": "970f2f40",
   "metadata": {},
   "outputs": [],
   "source": [
    "age = {}"
   ]
  },
  {
   "cell_type": "code",
   "execution_count": null,
   "id": "f148dcb1",
   "metadata": {},
   "outputs": [],
   "source": [
    "req_headers = {\n",
    "    \"User-Agent\": \"Mozilla/5.0 (Windows NT 10.0; Win64; x64) AppleWebKit/537.36 (KHTML, like Gecko) Chrome/94.0.4606.61 Safari/537.36\",\n",
    "    \"Accept\": \"*/*\"\n",
    "}\n"
   ]
  },
  {
   "cell_type": "markdown",
   "id": "bb9ca2b6",
   "metadata": {},
   "source": [
    "# Per year"
   ]
  },
  {
   "cell_type": "code",
   "execution_count": null,
   "id": "42ea6445",
   "metadata": {},
   "outputs": [],
   "source": [
    "def get_by_year(year):\n",
    "\n",
    "    url = f\"https://www.basketball-reference.com/playoffs/NBA_{year}_totals.html\"\n",
    "\n",
    "    # Send a GET request to the URL\n",
    "    res = requests.get(url, headers=req_headers)\n",
    "\n",
    "    # Parse the HTML content using BeautifulSoup\n",
    "    soup = BeautifulSoup(res.content, \"html.parser\")\n",
    "\n",
    "    # Find the table containing the team playoff totals\n",
    "    table = soup.find(\"table\", {\"id\": \"totals_stats\"})\n",
    "\n",
    "    # Get the headers of the table\n",
    "    headers = [th.get_text() for th in table.find(\"tr\").find_all(\"th\")]\n",
    "\n",
    "    # Get the data rows of the table\n",
    "    rows = []\n",
    "    for tr in table.find_all(\"tr\")[1:]:\n",
    "        rows.append([td.get_text() for td in tr.find_all(\"td\")])\n",
    "\n",
    "    # Create a pandas dataframe from the data\n",
    "    df = pd.DataFrame(rows, columns=headers[1:])\n",
    "\n",
    "    # Display the resulting dataframe\n",
    "#     print(df.head())\n",
    "\n",
    "    sub_df = df[df.Tm == champion_dic[year]]\n",
    "\n",
    "    ages = pd.to_numeric(sub_df.Age)\n",
    "    mps = pd.to_numeric(sub_df.MP)\n",
    "\n",
    "    age[year] = ages.mean(), sum(ages * mps) / sum(mps) if sum(mps) > 0 else -1\n",
    "    print(year, age[year])\n",
    "    time.sleep(5)"
   ]
  },
  {
   "cell_type": "code",
   "execution_count": null,
   "id": "02a09806",
   "metadata": {},
   "outputs": [],
   "source": [
    "for year in champion_dic:\n",
    "    if year not in age:\n",
    "        get_by_year(year)"
   ]
  },
  {
   "cell_type": "code",
   "execution_count": null,
   "id": "c13dba2a",
   "metadata": {},
   "outputs": [],
   "source": [
    "years = sorted(age)"
   ]
  },
  {
   "cell_type": "code",
   "execution_count": null,
   "id": "d07aadd8",
   "metadata": {},
   "outputs": [],
   "source": [
    "df = pd.DataFrame.from_dict({year: [champion_dic[year], *age[year]] for year in years}, orient='index', columns=['team', '平均年龄', '按出场时间加权平均年龄'])"
   ]
  },
  {
   "cell_type": "code",
   "execution_count": null,
   "id": "9cbf64a2",
   "metadata": {},
   "outputs": [],
   "source": [
    "df['diff'] = df['平均年龄'] - df['按出场时间加权平均年龄']"
   ]
  },
  {
   "cell_type": "code",
   "execution_count": null,
   "id": "4866782e",
   "metadata": {},
   "outputs": [],
   "source": [
    "df.sort_values('按出场时间加权平均年龄', ascending=False).head(10)"
   ]
  }
 ],
 "metadata": {
  "kernelspec": {
   "display_name": "Python 3 (ipykernel)",
   "language": "python",
   "name": "python3"
  },
  "language_info": {
   "codemirror_mode": {
    "name": "ipython",
    "version": 3
   },
   "file_extension": ".py",
   "mimetype": "text/x-python",
   "name": "python",
   "nbconvert_exporter": "python",
   "pygments_lexer": "ipython3",
   "version": "3.8.16"
  }
 },
 "nbformat": 4,
 "nbformat_minor": 5
}
